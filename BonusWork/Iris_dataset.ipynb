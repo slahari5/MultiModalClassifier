{
  "nbformat": 4,
  "nbformat_minor": 0,
  "metadata": {
    "colab": {
      "private_outputs": true,
      "provenance": []
    },
    "kernelspec": {
      "name": "python3",
      "display_name": "Python 3"
    },
    "language_info": {
      "name": "python"
    },
    "accelerator": "GPU",
    "gpuClass": "standard"
  },
  "cells": [
    {
      "cell_type": "code",
      "source": [
        "import pandas as pd\n",
        "import warnings\n",
        "warnings.filterwarnings('ignore')\n",
        "import matplotlib.pyplot as plt\n",
        "\n",
        "import numpy as np\n",
        "import random\n",
        "%matplotlib inline\n",
        "\n",
        "import seaborn as sns\n",
        "sns.set_palette('husl')\n",
        "sns.set(style=\"white\",color_codes=True)\n",
        "\n",
        "from sklearn import metrics\n",
        "from sklearn.neighbors import KNeighborsClassifier\n",
        "from sklearn.linear_model import LogisticRegression\n",
        "from sklearn.model_selection import train_test_split\n",
        "from sklearn.preprocessing import LabelEncoder\n",
        "\n",
        "import plotly.offline as py\n",
        "from plotly.offline import init_notebook_mode, iplot\n",
        "import plotly.graph_objs as go\n",
        "from plotly import tools\n",
        "init_notebook_mode(connected=True)  \n",
        "import plotly.figure_factory as ff\n",
        "\n",
        "from sklearn.linear_model import LogisticRegression\n",
        "from sklearn.svm import SVC\n",
        "from sklearn.naive_bayes import GaussianNB\n",
        "from sklearn.tree import DecisionTreeClassifier\n",
        "from sklearn.ensemble import RandomForestClassifier, ExtraTreesClassifier\n",
        "from sklearn.neighbors import KNeighborsClassifier\n",
        "from lightgbm import LGBMClassifier\n",
        "from sklearn.metrics import  accuracy_score\n",
        "\n",
        "\n",
        "import xgboost as xgb\n",
        "import lightgbm as  lgb\n",
        "from xgboost.sklearn import XGBClassifier\n",
        "import keras\n",
        "from keras.models import Sequential\n",
        "from keras.layers import Dense\n",
        "\n"
      ],
      "metadata": {
        "id": "mBycTznPOxpk"
      },
      "execution_count": null,
      "outputs": []
    },
    {
      "cell_type": "code",
      "source": [
        "iris = pd.read_csv('Iris.csv')\n",
        "iris.head()"
      ],
      "metadata": {
        "id": "QmHKxzE4EPPR"
      },
      "execution_count": null,
      "outputs": []
    },
    {
      "cell_type": "code",
      "source": [
        "iris.info()"
      ],
      "metadata": {
        "id": "pPadoP8KODt6"
      },
      "execution_count": null,
      "outputs": []
    },
    {
      "cell_type": "code",
      "source": [
        "iris.describe()"
      ],
      "metadata": {
        "id": "BGhf_D69OG-k"
      },
      "execution_count": null,
      "outputs": []
    },
    {
      "cell_type": "code",
      "source": [
        "iris['Species'].value_counts()"
      ],
      "metadata": {
        "id": "HTFRcj2fNd8d"
      },
      "execution_count": null,
      "outputs": []
    },
    {
      "cell_type": "code",
      "source": [
        "iris.plot(kind='scatter', x='SepalLengthCm', y='SepalWidthCm')\n",
        "plt.show()"
      ],
      "metadata": {
        "id": "zHCTkkI1Ngid"
      },
      "execution_count": null,
      "outputs": []
    },
    {
      "cell_type": "code",
      "source": [
        "sns.jointplot(x='SepalLengthCm', y='SepalWidthCm', data=iris, size=6)\n",
        "plt.show()"
      ],
      "metadata": {
        "id": "rnFReOuPNkt_"
      },
      "execution_count": null,
      "outputs": []
    },
    {
      "cell_type": "code",
      "source": [
        "sns.FacetGrid(iris, hue='Species', size=5).map(plt.scatter, 'SepalLengthCm', 'SepalWidthCm').add_legend()\n",
        "plt.show()"
      ],
      "metadata": {
        "id": "TEiR8TsoNoMi"
      },
      "execution_count": null,
      "outputs": []
    },
    {
      "cell_type": "code",
      "source": [
        "sns.boxplot(x='Species', y='PetalLengthCm', data=iris)\n",
        "plt.show()"
      ],
      "metadata": {
        "id": "phrCXRRwNoJa"
      },
      "execution_count": null,
      "outputs": []
    },
    {
      "cell_type": "code",
      "source": [
        "sns.stripplot(x=\"Species\", y=\"PetalLengthCm\", data=iris, jitter=True, edgecolor=\"gray\")\n",
        "plt.show()"
      ],
      "metadata": {
        "id": "mwnogIDDNoGd"
      },
      "execution_count": null,
      "outputs": []
    },
    {
      "cell_type": "code",
      "source": [
        "sns.violinplot(x=\"Species\", y=\"PetalLengthCm\", data=iris, size=6)\n",
        "plt.show()"
      ],
      "metadata": {
        "id": "U-zQZS7fNoAD"
      },
      "execution_count": null,
      "outputs": []
    },
    {
      "cell_type": "code",
      "source": [
        "sns.FacetGrid(iris, hue='Species', size=6).map(sns.kdeplot, 'PetalLengthCm').add_legend()\n",
        "plt.show()"
      ],
      "metadata": {
        "id": "1Fhm-OAXNn8w"
      },
      "execution_count": null,
      "outputs": []
    },
    {
      "cell_type": "code",
      "source": [
        "sns.pairplot(iris.drop(\"Id\", axis=1), hue=\"Species\", size=3, diag_kind=\"kde\")\n",
        "plt.show()"
      ],
      "metadata": {
        "id": "alFwl6cRNn2x"
      },
      "execution_count": null,
      "outputs": []
    },
    {
      "cell_type": "code",
      "source": [
        "iris.drop(\"Id\", axis=1).boxplot(by=\"Species\", figsize=(12, 6))\n",
        "plt.show()"
      ],
      "metadata": {
        "id": "khKqytA5N44G"
      },
      "execution_count": null,
      "outputs": []
    },
    {
      "cell_type": "code",
      "source": [
        "g = sns.violinplot(y='Species', x='SepalLengthCm', data=iris, inner='quartile')\n",
        "plt.show()\n",
        "g = sns.violinplot(y='Species', x='SepalWidthCm', data=iris, inner='quartile')\n",
        "plt.show()\n",
        "g = sns.violinplot(y='Species', x='PetalLengthCm', data=iris, inner='quartile')\n",
        "plt.show()"
      ],
      "metadata": {
        "id": "L5nQ6ytFORNq"
      },
      "execution_count": null,
      "outputs": []
    },
    {
      "cell_type": "code",
      "source": [
        "X = iris.drop(['Id','Species'], axis=1) # axis=1 mean column\n",
        "y = iris['Species']"
      ],
      "metadata": {
        "id": "8sB9YCNmN402"
      },
      "execution_count": null,
      "outputs": []
    },
    {
      "cell_type": "code",
      "source": [
        "X.shape"
      ],
      "metadata": {
        "id": "L4gas931N4xe"
      },
      "execution_count": null,
      "outputs": []
    },
    {
      "cell_type": "code",
      "source": [
        "y.shape"
      ],
      "metadata": {
        "id": "1bV5tT2vN4uF"
      },
      "execution_count": null,
      "outputs": []
    },
    {
      "cell_type": "code",
      "source": [
        "!pip install catboost"
      ],
      "metadata": {
        "id": "LlTX5sHsPte0"
      },
      "execution_count": null,
      "outputs": []
    },
    {
      "cell_type": "code",
      "source": [
        "k_range = list(range(1,26))\n",
        "scores = []\n",
        "for k in k_range:\n",
        "    knn = KNeighborsClassifier(n_neighbors=k)\n",
        "    knn.fit(X,y)\n",
        "    y_pred = knn.predict(X)\n",
        "    scores.append(metrics.accuracy_score(y, y_pred))\n",
        "\n",
        "plt.plot(k_range, scores)\n",
        "plt.xlabel('Value of k for KNN')\n",
        "plt.ylabel('Accuracy Score')\n",
        "plt.title('Accuracy Scores for Values of k of k-Nearest-Neighbors')\n",
        "plt.show()"
      ],
      "metadata": {
        "id": "TfMBbkcUN4qz"
      },
      "execution_count": null,
      "outputs": []
    },
    {
      "cell_type": "code",
      "source": [
        "logreg = LogisticRegression()\n",
        "logreg.fit(X, y)\n",
        "y_pred = logreg.predict(X)\n",
        "print(metrics.accuracy_score(y, y_pred))"
      ],
      "metadata": {
        "id": "UoIGCSKqOxmm"
      },
      "execution_count": null,
      "outputs": []
    },
    {
      "cell_type": "code",
      "source": [
        "X_train, X_test, y_train, y_test = train_test_split(X, y, test_size=0.4, random_state=5)\n",
        "print(X_train.shape)\n",
        "print(y_train.shape)\n",
        "print(X_test.shape)\n",
        "print(y_test.shape)"
      ],
      "metadata": {
        "id": "1nfht3iwOxjU"
      },
      "execution_count": null,
      "outputs": []
    },
    {
      "cell_type": "code",
      "source": [
        "logreg = LogisticRegression()\n",
        "logreg.fit(X_train, y_train)\n",
        "y_pred = logreg.predict(X_test)\n",
        "print(metrics.accuracy_score(y_test, y_pred))"
      ],
      "metadata": {
        "id": "dn2JPxOzOxc7"
      },
      "execution_count": null,
      "outputs": []
    },
    {
      "cell_type": "code",
      "source": [
        "g = sns.lmplot(x=\"SepalWidthCm\", y=\"SepalLengthCm\", hue=\"Species\", data=iris)"
      ],
      "metadata": {
        "id": "rOOw9mCFOxWS"
      },
      "execution_count": null,
      "outputs": []
    },
    {
      "cell_type": "code",
      "source": [
        "g = sns.lmplot(x=\"PetalWidthCm\", y=\"PetalLengthCm\", hue=\"Species\", data=iris)"
      ],
      "metadata": {
        "id": "1NLEqvJkOxSr"
      },
      "execution_count": null,
      "outputs": []
    },
    {
      "cell_type": "code",
      "source": [
        "x = iris[['SepalLengthCm','SepalWidthCm','PetalLengthCm','PetalWidthCm']]\n",
        "y = iris['Species']"
      ],
      "metadata": {
        "id": "JHJ1P7F0N4mq"
      },
      "execution_count": null,
      "outputs": []
    },
    {
      "cell_type": "code",
      "source": [
        "encoder = LabelEncoder()\n",
        "y = encoder.fit_transform(y)"
      ],
      "metadata": {
        "id": "hxkdlqLhN4iw"
      },
      "execution_count": null,
      "outputs": []
    },
    {
      "cell_type": "code",
      "source": [
        "y"
      ],
      "metadata": {
        "id": "Z5qBnaUzNnzh"
      },
      "execution_count": null,
      "outputs": []
    },
    {
      "cell_type": "code",
      "source": [
        "x_train, x_test, y_train, y_test = train_test_split(x, y, test_size = 0.3, random_state = 101)"
      ],
      "metadata": {
        "id": "cKSu9oO4Nnvh"
      },
      "execution_count": null,
      "outputs": []
    },
    {
      "cell_type": "code",
      "source": [
        "lr_model = LogisticRegression()\n",
        "lr_model.fit(x_train,y_train)\n",
        "lr_predict = lr_model.predict(x_test)\n",
        "\n",
        "print('Logistic Regression - ',accuracy_score(lr_predict,y_test))"
      ],
      "metadata": {
        "id": "ohlpX0amNnod"
      },
      "execution_count": null,
      "outputs": []
    },
    {
      "cell_type": "code",
      "source": [
        "svm_model = SVC(kernel='linear')\n",
        "svm_model.fit(x_train,y_train)\n",
        "svc_predict = svm_model.predict(x_test)\n",
        "\n",
        "print('SVM - ',accuracy_score(svc_predict,y_test))"
      ],
      "metadata": {
        "id": "hb4cK86hSVCa"
      },
      "execution_count": null,
      "outputs": []
    },
    {
      "cell_type": "code",
      "source": [
        "nb_model = GaussianNB()\n",
        "nb_model.fit(x_train,y_train)\n",
        "nb_predict = nb_model.predict(x_test)\n",
        "\n",
        "print('Naive bayes - ',accuracy_score(nb_predict,y_test))"
      ],
      "metadata": {
        "id": "cU3NZRhRSU_B"
      },
      "execution_count": null,
      "outputs": []
    },
    {
      "cell_type": "code",
      "source": [
        "dt_model = DecisionTreeClassifier(max_leaf_nodes=3)\n",
        "dt_model.fit(x_train,y_train)\n",
        "dt_predict = dt_model.predict(x_test)\n",
        "\n",
        "print('Decision Tree - ',accuracy_score(dt_predict,y_test))"
      ],
      "metadata": {
        "id": "kU3dlyZySU76"
      },
      "execution_count": null,
      "outputs": []
    },
    {
      "cell_type": "code",
      "source": [
        "rfc_model = RandomForestClassifier(max_depth=3)\n",
        "rfc_model.fit(x_train,y_train)\n",
        "rfc_predict = rfc_model.predict(x_test)\n",
        "\n",
        "print('Random Forest - ',accuracy_score(rfc_predict,y_test))"
      ],
      "metadata": {
        "id": "hoetCCgwSU4x"
      },
      "execution_count": null,
      "outputs": []
    },
    {
      "cell_type": "code",
      "source": [
        "etc_model = ExtraTreesClassifier()\n",
        "etc_model.fit(x_train,y_train)\n",
        "etc_predict = etc_model.predict(x_test)\n",
        "\n",
        "print('Extra Tree Classifier - ',accuracy_score(etc_predict,y_test))"
      ],
      "metadata": {
        "id": "I1V7Ca81SU1y"
      },
      "execution_count": null,
      "outputs": []
    },
    {
      "cell_type": "code",
      "source": [
        "knn_model = KNeighborsClassifier(n_neighbors=3)\n",
        "knn_model.fit(x_train,y_train)\n",
        "knn_predict = knn_model.predict(x_test)\n",
        "\n",
        "print('knn - ',accuracy_score(knn_predict,y_test))"
      ],
      "metadata": {
        "id": "i4DvwBJpSUx_"
      },
      "execution_count": null,
      "outputs": []
    },
    {
      "cell_type": "code",
      "source": [
        "xg_model = xgb.XGBClassifier()\n",
        "xg_model = xg_model.fit(x_train,y_train)\n",
        "xg_model.score(x_test, y_test)"
      ],
      "metadata": {
        "id": "KU938cYYSjfa"
      },
      "execution_count": null,
      "outputs": []
    },
    {
      "cell_type": "code",
      "source": [
        "from sklearn.preprocessing import StandardScaler, LabelBinarizer\n",
        "\n",
        "X = StandardScaler().fit_transform(X)\n",
        "y = LabelBinarizer().fit_transform(y)"
      ],
      "metadata": {
        "id": "n3a8lIxbSjZa"
      },
      "execution_count": null,
      "outputs": []
    },
    {
      "cell_type": "code",
      "source": [
        "x_train, x_test, y_train, y_test = train_test_split(X, y, test_size = 0.3, random_state = 101)"
      ],
      "metadata": {
        "id": "i1tjn1WsSjWc"
      },
      "execution_count": null,
      "outputs": []
    },
    {
      "cell_type": "code",
      "source": [
        "shallow_model = Sequential()\n",
        "shallow_model.add(Dense( 4, input_dim=4, activation = 'relu'))\n",
        "shallow_model.add(Dense( units = 10, activation= 'relu'))\n",
        "shallow_model.add(Dense( units = 3, activation= 'softmax'))\n",
        "shallow_model.compile(loss = 'binary_crossentropy', optimizer = 'adam', metrics = ['accuracy'])"
      ],
      "metadata": {
        "id": "jjLyrNYUSjTK"
      },
      "execution_count": null,
      "outputs": []
    },
    {
      "cell_type": "code",
      "source": [
        "shallow_history = shallow_model.fit(x_train, y_train, epochs = 150, validation_data = (x_test, y_test))"
      ],
      "metadata": {
        "id": "QoWJdBeoSjQC"
      },
      "execution_count": null,
      "outputs": []
    },
    {
      "cell_type": "code",
      "source": [
        "plt.plot(shallow_history.history['accuracy'])\n",
        "plt.plot(shallow_history.history['val_accuracy'])\n",
        "plt.title(\"Accuracy\")\n",
        "plt.legend(['train', 'test'])\n",
        "plt.show()"
      ],
      "metadata": {
        "id": "oNIeNpwfSjIu"
      },
      "execution_count": null,
      "outputs": []
    },
    {
      "cell_type": "code",
      "source": [
        "plt.plot(shallow_history.history['loss'])\n",
        "plt.plot(shallow_history.history['val_loss'])\n",
        "plt.plot('Loss')\n",
        "plt.legend(['Train','Test'])\n",
        "plt.show()"
      ],
      "metadata": {
        "id": "Pffldd3ESUuY"
      },
      "execution_count": null,
      "outputs": []
    },
    {
      "cell_type": "code",
      "source": [
        "deep_model = Sequential()\n",
        "deep_model.add(Dense( 4, input_dim=4, activation = 'relu'))\n",
        "deep_model.add(Dense( units = 10, activation= 'relu'))\n",
        "deep_model.add(Dense( units = 10, activation= 'relu'))\n",
        "deep_model.add(Dense( units = 10, activation= 'relu'))\n",
        "deep_model.add(Dense( units = 10, activation= 'relu'))\n",
        "deep_model.add(Dense( units = 10, activation= 'relu'))\n",
        "deep_model.add(Dense( units = 10, activation= 'relu'))\n",
        "deep_model.add(Dense( units = 10, activation= 'relu'))\n",
        "deep_model.add(Dense( units = 10, activation= 'relu'))\n",
        "deep_model.add(Dense( units = 3, activation= 'softmax'))\n",
        "deep_model.compile(loss = 'categorical_crossentropy', optimizer = 'adam', metrics = ['accuracy'])"
      ],
      "metadata": {
        "id": "rbXbnI27TWgX"
      },
      "execution_count": null,
      "outputs": []
    },
    {
      "cell_type": "code",
      "source": [
        "deep_history = deep_model.fit(x_train, y_train, epochs = 150, validation_data = (x_test, y_test))"
      ],
      "metadata": {
        "id": "sB8ZN8_JTWZ3"
      },
      "execution_count": null,
      "outputs": []
    },
    {
      "cell_type": "code",
      "source": [
        "plt.plot(deep_history.history['accuracy'])\n",
        "plt.plot(deep_history.history['val_accuracy'])\n",
        "plt.title(\"Accuracy\")\n",
        "plt.legend(['train', 'test'])\n",
        "plt.show()"
      ],
      "metadata": {
        "id": "yRnxdBhCTWWo"
      },
      "execution_count": null,
      "outputs": []
    },
    {
      "cell_type": "code",
      "source": [
        "plt.plot(deep_history.history['loss'])\n",
        "plt.plot(deep_history.history['val_loss'])\n",
        "plt.plot('Loss')\n",
        "plt.legend(['Train','Test'])\n",
        "plt.show()"
      ],
      "metadata": {
        "id": "Pg4FP_W1TWTv"
      },
      "execution_count": null,
      "outputs": []
    }
  ]
}